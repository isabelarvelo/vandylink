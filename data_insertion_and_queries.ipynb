{
 "cells": [
  {
   "cell_type": "markdown",
   "metadata": {},
   "source": [
    "# VandyLink Data Insertion and Querying"
   ]
  },
  {
   "cell_type": "markdown",
   "metadata": {},
   "source": [
    "## Installs and Imports"
   ]
  },
  {
   "cell_type": "code",
   "execution_count": 117,
   "metadata": {},
   "outputs": [
    {
     "name": "stdout",
     "output_type": "stream",
     "text": [
      "Requirement already satisfied: neo4j in /Users/isabelarvelo/anaconda3/lib/python3.11/site-packages (5.25.0)\n",
      "Requirement already satisfied: pytz in /Users/isabelarvelo/anaconda3/lib/python3.11/site-packages (from neo4j) (2024.1)\n",
      "\n",
      "\u001b[1m[\u001b[0m\u001b[34;49mnotice\u001b[0m\u001b[1;39;49m]\u001b[0m\u001b[39;49m A new release of pip is available: \u001b[0m\u001b[31;49m24.0\u001b[0m\u001b[39;49m -> \u001b[0m\u001b[32;49m24.3.1\u001b[0m\n",
      "\u001b[1m[\u001b[0m\u001b[34;49mnotice\u001b[0m\u001b[1;39;49m]\u001b[0m\u001b[39;49m To update, run: \u001b[0m\u001b[32;49mpip install --upgrade pip\u001b[0m\n"
     ]
    }
   ],
   "source": [
    "!pip install neo4j\n",
    "import neo4j\n",
    "import pandas as pd\n",
    "import pandas as pd\n",
    "from datetime import datetime\n",
    "from typing import List, Dict, Any"
   ]
  },
  {
   "cell_type": "markdown",
   "metadata": {},
   "source": [
    "## Utility Functions"
   ]
  },
  {
   "cell_type": "code",
   "execution_count": 151,
   "metadata": {},
   "outputs": [],
   "source": [
    "# These functions were taken directly from the class activity\n",
    "\n",
    "def connect_db():\n",
    "    driver = neo4j.GraphDatabase.driver(uri=\"neo4j://0.0.0.0:7687\", auth=(\"neo4j\",\"password\"))\n",
    "    session = driver.session(database=\"neo4j\") # similar to USE ds5760;\n",
    "    return session\n",
    "    \n",
    "def wipe_out_db(session):\n",
    "    # wipe out database by deleting all nodes and relationships\n",
    "    \n",
    "    # similar to SELECT * FROM graph_db in SQL\n",
    "    query = \"match (node)-[relationship]->() delete node, relationship\"\n",
    "    session.run(query)\n",
    "    \n",
    "    query = \"match (node) delete node\"\n",
    "    session.run(query)\n",
    "\n",
    "session = connect_db()\n",
    "wipe_out_db(session) \n",
    "\n",
    "def run_query_to_pandas(session, query):\n",
    "    # run a query and return the results in a pandas dataframe\n",
    "    \n",
    "    result = session.run(query)\n",
    "    \n",
    "    df = pd.DataFrame([r.values() for r in result], columns=result.keys())\n",
    "    \n",
    "    return df\n",
    "\n",
    "def run_query_print_raw(session, query):\n",
    "    result = session.run(query)\n",
    "    \n",
    "    for r in result:\n",
    "        print(r.values())\n"
   ]
  },
  {
   "cell_type": "code",
   "execution_count": 186,
   "metadata": {},
   "outputs": [],
   "source": [
    "# These are utility functions created to display the results of the queries in a more readable format\n",
    "import pandas as pd\n",
    "from datetime import datetime\n",
    "\n",
    "def display_social_path(result):\n",
    "    paths = list(result)\n",
    "    \n",
    "    if not paths:\n",
    "        print(f\"\\nNo connection found between users.\")\n",
    "        return\n",
    "    \n",
    "    # Get the path from the first result\n",
    "    path = paths[0][0]  # Access first element since path is the only returned field\n",
    "    \n",
    "    # Extract nodes and relationships\n",
    "    nodes = path.nodes\n",
    "    relationships = path.relationships\n",
    "    \n",
    "    # Print header\n",
    "    print(\"\\n\" + \"=\"*60)\n",
    "    print(f\"Social Connection Path Analysis\")\n",
    "    print(\"=\"*60)\n",
    "\n",
    "    # Print detailed path\n",
    "    print(\"\\nConnection Path:\")\n",
    "    print(\"  \", end=\"\")\n",
    "    \n",
    "    # Build the path visualization\n",
    "    for i, node in enumerate(nodes):\n",
    "        # Print current user with their role\n",
    "        print(f\"{node['name']} ({node['currentTitle']} at {node['currentCompany']})\", end=\"\")\n",
    "        if i < len(nodes) - 1:\n",
    "            print(\" ──→ \", end=\"\")\n",
    "    \n",
    "    # Print user details table\n",
    "    print(\"\\n\\nUser Details:\")\n",
    "    user_details = []\n",
    "    for node in nodes:\n",
    "        user_details.append({\n",
    "            'Name': node['name'],\n",
    "            'Location': node['location'],\n",
    "            'Current Role': node['currentTitle'],\n",
    "            'Company': node['currentCompany'],\n",
    "            'Last Active': node['lastActive'].iso_format() if 'lastActive' in node else 'N/A'\n",
    "        })\n",
    "    \n",
    "    df_users = pd.DataFrame(user_details)\n",
    "    print(df_users.to_string(index=False))\n",
    "    \n",
    "    # Print path statistics\n",
    "    print(f\"\\nPath Length: {len(relationships)} connection(s)\")\n",
    "    \n",
    "    print(\"\\n\" + \"=\"*60)\n",
    "\n",
    "    \n",
    "def format_posts(session, query):\n",
    "    result = session.run(query)\n",
    "    formatted_posts = []\n",
    "    \n",
    "    for record in result:\n",
    "        # Extract the Post node from the record\n",
    "        post = record['p']  \n",
    "        \n",
    "        # Format the timestamp\n",
    "        timestamp = post.get('timestamp')\n",
    "        if timestamp:\n",
    "            formatted_time = timestamp.to_native().strftime('%Y-%m-%d %H:%M:%S')\n",
    "        else:\n",
    "            formatted_time = None\n",
    "            \n",
    "        # Create a formatted dictionary for each post\n",
    "        formatted_post = {\n",
    "            'Post ID': post.get('postId'),\n",
    "            'Topic': post.get('topic'),\n",
    "            'Content': post.get('content'),\n",
    "            'Timestamp': formatted_time,\n",
    "            'Tags': ', '.join(post.get('tags', [])),\n",
    "            'Media URL': post.get('mediaUrl', None)\n",
    "        }\n",
    "        \n",
    "        formatted_posts.append(formatted_post)\n",
    "    \n",
    "    return formatted_posts\n",
    "\n",
    "def display_posts(session, query, display_format='table'):\n",
    "    formatted_posts = format_posts(session, query)\n",
    "    \n",
    "     # text format\n",
    "    for post in formatted_posts:\n",
    "        print(\"\\n\" + \"=\"*50)\n",
    "        print(f\"Post ID: {post['Post ID']}\")\n",
    "        print(f\"Topic: {post['Topic']}\")\n",
    "        print(f\"Content: {post['Content']}\")\n",
    "        print(f\"Posted on: {post['Timestamp']}\")\n",
    "        print(f\"Tags: {post['Tags']}\")\n",
    "        if post['Media URL']:\n",
    "            print(f\"Media: {post['Media URL']}\")\n",
    "        print(\"=\"*50)"
   ]
  },
  {
   "cell_type": "markdown",
   "metadata": {},
   "source": [
    "## Insert Data : Nodes"
   ]
  },
  {
   "cell_type": "markdown",
   "metadata": {},
   "source": [
    "### Create Users"
   ]
  },
  {
   "cell_type": "code",
   "execution_count": 153,
   "metadata": {},
   "outputs": [
    {
     "data": {
      "text/plain": [
       "<neo4j._sync.work.result.Result at 0x148398d90>"
      ]
     },
     "execution_count": 153,
     "metadata": {},
     "output_type": "execute_result"
    }
   ],
   "source": [
    "query='''\n",
    "CREATE \n",
    "  (LindaC:User {\n",
    "    userId: \"DSI001\",\n",
    "    name: \"Linda Chen\",\n",
    "    email: \"linda.chen@vanderbilt.edu\",\n",
    "    aboutMe: \"I am a second-year data science student. I am interested in machine learning, natural language processing, and ethical AI.\",\n",
    "    graduationYear: \"2025\",\n",
    "    currentTitle: \"Research Assistant\",\n",
    "    currentCompany: \"Kang Lab, Vanderbilt University\",\n",
    "    startDate: date(\"2023-09-30\"),\n",
    "    location: \"Nashville, TN\",\n",
    "    experienceTitles: [\"Technical Solutions Engineer Intern\"],\n",
    "    experienceCompanies: [\"Epic\"],\n",
    "    experienceStartDates: [date(\"2023-06-01\")],\n",
    "    experienceEndDates: [date(\"2023-08-31\")],\n",
    "    experienceLocations: [\"New York, NY\"],\n",
    "    experienceDescriptions: [\"I worked with the OpTime team to develop a novel framework for operating room displays to easily customize the information available to operating room staff.\"],\n",
    "    joinDate: date(\"2023-09-01\"),\n",
    "    lastActive: date(\"2024-11-02\"),\n",
    "    isAlumni: false\n",
    "  })\n",
    "\n",
    "CREATE \n",
    "  (GeorgeL:User {\n",
    "    userId: \"DSI002\",\n",
    "    name: \"George Lopez\",\n",
    "    email: \"george.lopez@vanderbilt.edu\",\n",
    "    aboutMe: \"I am a data science student at Vanderbilt University looking for a summer internship. I am hardworking and passionate about big data.\",\n",
    "    graduationYear: \"2026\",\n",
    "    currentTitle: \"Probability Teaching Assistant\",\n",
    "    currentCompany: \"Vanderbilt University\",\n",
    "    startDate: date(\"2024-09-01\"),\n",
    "    location: \"Nashville, TN\",\n",
    "    experienceTitles: [\"Head Tour Guide\"],\n",
    "    experienceCompanies: [\"Amherst College\"],\n",
    "    experienceStartDates: [date(\"2022-09-01\")],\n",
    "    experienceEndDates: [date(\"2024-05-31\")],\n",
    "    experienceLocations: [\"Amherst, MA\"],\n",
    "    experienceDescriptions: [\"I led and coordinated tours for prospective students and their families.\"],\n",
    "    joinDate: date(\"2024-09-15\"),\n",
    "    lastActive: date(\"2024-11-05\"),\n",
    "    isAlumni: false\n",
    "  })\n",
    "\n",
    "CREATE \n",
    "  (RobinW:User {\n",
    "    userId: \"DSI003\",\n",
    "    name: \"Robin Watson\",\n",
    "    aboutMe: \"Classically trained actuary turned data analyst. I am passionate about statistics and data visualization.\",\n",
    "    email: \"rw234@gmail.com\",\n",
    "    graduationYear: \"2024\",\n",
    "    currentTitle: \"Data Analyst\",\n",
    "    currentCompany: \"HCA Healthcare\",\n",
    "    startDate: date(\"2022-07-01\"),\n",
    "    location: \"New York\",\n",
    "    experienceTitles: [\"Research Assistant\", \"Actuary\"],\n",
    "    experienceCompanies: [\"University of Wisconsin\", \"Optum\"],\n",
    "    experienceStartDates: [date(\"2017-06-01\"), date(\"2018-09-01\")],\n",
    "    experienceEndDates: [date(\"2018-08-31\"), date(\"2022-06-30\")],\n",
    "    experienceLocations: [\"Milwaukee, WI\", \"Madison, WI\"],\n",
    "    experienceDescriptions: [\n",
    "      \"I worked on a research project analyzing global healthcare policies and its impact on public health.\",\n",
    "      \"I worked on pricing and reserving for the Medicare Advantage line of business.\"\n",
    "    ],\n",
    "    joinDate: date(\"2022-09-01\"),\n",
    "    lastActive: date(\"2024-10-01\"),\n",
    "    isAlumni: true\n",
    "  })\n",
    "\n",
    "CREATE \n",
    "  (DavidK:User {\n",
    "    userId: \"DSI004\",\n",
    "    name: \"David Kim\",\n",
    "    aboutMe: \"I love building things.\",\n",
    "    email: \"david.kim@gmail.com\",\n",
    "    graduationYear: \"2021\",\n",
    "    currentTitle: \"Machine Learning Engineer\",\n",
    "    currentCompany: \"Google\",\n",
    "    startDate: date(\"2021-09-15\"),\n",
    "    location: \"San Francisco\",\n",
    "    experienceTitles: [\"Software Engineer\", \"Research Assistant\"],\n",
    "    experienceCompanies: [\"Roblox\", \"Columbia University\"],\n",
    "    experienceStartDates: [date(\"2017-06-01\"), date(\"2015-09-01\")],\n",
    "    experienceEndDates: [date(\"2019-08-31\"), date(\"2017-05-31\")],\n",
    "    experienceLocations: [\"New York, NY\", \"New York, NY\"],\n",
    "    experienceDescriptions: [\n",
    "      \"Client engineer working on the application lifecycle.\",\n",
    "      \"Led NLP research project analyzing medical records. Published 2 papers in healthcare informatics.\"\n",
    "    ],\n",
    "    joinDate: date(\"2019-10-15\"),\n",
    "    lastActive: date(\"2024-11-03\"),\n",
    "    isAlumni: true\n",
    "  })\n",
    "\n",
    "CREATE \n",
    "  (TimR:User {\n",
    "    userId: \"DSI005\",\n",
    "    name: \"Tim Robinson\",\n",
    "    aboutMe: \"I am a first-year student.\",\n",
    "    email: \"t.robinson@vanderbilt.edu\",\n",
    "    graduationYear: \"2026\",\n",
    "    currentTitle: \"Student\",\n",
    "    currentCompany: \"Vanderbilt University\",\n",
    "    startDate: date(\"2024-08-26\"),\n",
    "    location: \"Nashville, TN\",\n",
    "    joinDate: date(\"2024-09-05\"),\n",
    "    lastActive: date(\"2024-09-05\"),\n",
    "    isAlumni: false\n",
    "  })\n",
    "\n",
    "CREATE \n",
    "  (LilianN:User {\n",
    "    userId: \"DSI006\",\n",
    "    name: \"Lilian Nassimi\",\n",
    "    aboutMe: \"Another woman solving one data problem at a time. I have a proven track record of delivering value and innovation.\",\n",
    "    email: \"l.nassimi@gmail.com\",\n",
    "    graduationYear: \"2021\",\n",
    "    currentTitle: \"Operations Research Scientist\",\n",
    "    currentCompany: \"Ford Motor Company\",\n",
    "    startDate: date(\"2023-11-01\"),\n",
    "    location: \"Detroit, MI\",\n",
    "    experienceTitles: [\"Data Scientist\", \"NLP Research Assistant\"],\n",
    "    experienceCompanies: [\"v4c.ai\", \"Vanderbilt University\"],\n",
    "    experienceStartDates: [date(\"2021-06-01\"), date(\"2019-12-01\")],\n",
    "    experienceEndDates: [date(\"2023-09-30\"), date(\"2021-04-30\")],\n",
    "    experienceLocations: [\"New York, NY\", \"Nashville, TN\"],\n",
    "    experienceDescriptions: [\n",
    "      \"Analyzed historical data and trend patterns for a fashion brand to optimize demand forecasting and determine necessary recut quantities on a monthly basis.\",\n",
    "      \"Developed a model that uses transcripts from class lectures to identify types of teacher talk that are most effective in promoting student engagement and learning.\"\n",
    "    ],\n",
    "    joinDate: date(\"2019-09-30\"),\n",
    "    lastActive: date(\"2024-10-15\"),\n",
    "    isAlumni: true\n",
    "  })\n",
    "\n",
    "CREATE\n",
    "  (AmyM:User {\n",
    "    userId: \"DSI007\",\n",
    "    name: \"Amy Martinez\",\n",
    "    aboutMe: \"I am a data scientist with a passion for data visualization.\",\n",
    "    email: \"a.martinez@gmail.com\", \n",
    "    graduationYear: \"2021\",\n",
    "    currentTitle: \"Data Scientist\",\n",
    "    currentCompany: \"Chewy\",\n",
    "    startDate: date(\"2023-09-01\"),\n",
    "    location: \"Chicago, IL\",\n",
    "    experienceTitles: [\"Data Analyst\", \"Research Assistant\"],\n",
    "    experienceCompanies: [\"84.51°\", \"Vanderbilt University\"],\n",
    "    experienceStartDates: [date(\"2021-06-01\"), date(\"2020-09-01\")],\n",
    "    experienceEndDates: [date(\"2023-08-31\"), date(\"2021-05-31\")],\n",
    "    experienceLocations: [\"Cincinnati, OH\", \"Nashville, TN\"],\n",
    "    experienceDescriptions: [\n",
    "      \"Analyzed customer data to identify trends and patterns in customer behavior.\",\n",
    "      \"Conducted research on the impact of social media on mental health.\"\n",
    "    ],\n",
    "    joinDate: date(\"2019-09-01\"),\n",
    "    lastActive: date(\"2024-11-01\"),\n",
    "    isAlumni: true\n",
    "  })\n",
    "\n",
    "'''\n",
    "session.run(query)"
   ]
  },
  {
   "cell_type": "markdown",
   "metadata": {},
   "source": [
    "### Create Posts"
   ]
  },
  {
   "cell_type": "code",
   "execution_count": 154,
   "metadata": {},
   "outputs": [
    {
     "data": {
      "text/plain": [
       "<neo4j._sync.work.result.Result at 0x1483d34d0>"
      ]
     },
     "execution_count": 154,
     "metadata": {},
     "output_type": "execute_result"
    }
   ],
   "source": [
    "query='''\n",
    "  CREATE\n",
    "    (p1:Post {\n",
    "      postId: \"POST001\",\n",
    "      content: \"Looking for study group partners for the NoSQL course this semester!\",\n",
    "      timestamp: datetime(\"2024-09-15T14:30:00\"),\n",
    "      tags: [\"study group\", \"databases\", \"collaboration\"],\n",
    "      topic: \"Academic\",\n",
    "      mediaUrl: null\n",
    "    })\n",
    "    CREATE (p2:Post {\n",
    "      postId: \"POST002\",\n",
    "      content: \"Just published my first paper on NLP for ACL 2024! Thank you to my all collaborators in the Kang Lab.\",\n",
    "      timestamp: datetime(\"2024-10-16T09:15:00\"),\n",
    "      tags: [\"research\", \"NLP\", \"publication\"],\n",
    "      topic: \"Research\",\n",
    "      mediaUrl: \"paper_preview.pdf\"\n",
    "    })\n",
    "    CREATE (p3:Post {\n",
    "      postId: \"POST003\",\n",
    "      content: \"Clean code is a non negotiable. Messy jupyter notebooks are the bane of my existence.\",\n",
    "      timestamp: datetime(\"2023-05-11T11:00:00\"),\n",
    "      tags: [\"rant\", \"coding\", \"best practices\"],\n",
    "      topic: \"Miscellaneous\",\n",
    "      mediaUrl: null\n",
    "    })\n",
    "    CREATE (p4:Post {\n",
    "      postId: \"POST004\",\n",
    "      content: \"Excited to announce we're hiring AI Engineers at Google! DM for referrals.\",\n",
    "      timestamp: datetime(\"2024-02-10T11:00:00\"),\n",
    "      tags: [\"job\", \"hiring\", \"career\"],\n",
    "      topic: \"Career\",\n",
    "      mediaUrl: null\n",
    "    })\n",
    "    CREATE (p5:Post {\n",
    "      postId: \"POST005\",\n",
    "      content: \"Just finished my first week at Ford! I'm so about the opportunities for innovation here.\",\n",
    "      timestamp: datetime(\"2023-12-01T11:00:00\"),\n",
    "      tags: [\"career\", \"new job\", \"autonomous vehicles\"],\n",
    "      topic: \"Career\",\n",
    "      mediaUrl: null\n",
    "    })\n",
    "    CREATE (p6:Post {\n",
    "      postId: \"POST006\",\n",
    "      content: \"I'm looking for a mentor in the data science field. Please reach out if you're interested in helping me grow!\",\n",
    "      timestamp: datetime(\"2024-06-12T11:00:00\"),\n",
    "      tags: [\"mentorship\", \"career\", \"growth\"],\n",
    "      topic: \"Career\",\n",
    "      mediaUrl: null\n",
    "    })\n",
    "    CREATE (p7:Post {\n",
    "      postId: \"POST007\",\n",
    "      content: \"Highly recommend reading 'Black Swan' by Nassim Nicholas Taleb. It's a great book on risk and uncertainty.\",\n",
    "      timestamp: datetime(\"2024-10-15T11:00:00\"),\n",
    "      tags: [\"risk\", \"fat tail\", \"thought leadership\"],\n",
    "      topic: \"Miscellaneous\",\n",
    "      mediaUrl: null\n",
    "    })\n",
    "\n",
    "'''\n",
    "\n",
    "session.run(query)"
   ]
  },
  {
   "cell_type": "markdown",
   "metadata": {},
   "source": [
    "### Create Groups"
   ]
  },
  {
   "cell_type": "code",
   "execution_count": 155,
   "metadata": {},
   "outputs": [
    {
     "data": {
      "text/plain": [
       "<neo4j._sync.work.result.Result at 0x1483bcc90>"
      ]
     },
     "execution_count": 155,
     "metadata": {},
     "output_type": "execute_result"
    }
   ],
   "source": [
    "query='''\n",
    "  CREATE\n",
    "    (g1:Group {\n",
    "      groupId: \"GRP001\",\n",
    "      name: \"DSI Generative AI Research Group\",\n",
    "      description: \"Discussion group for the latest research papers and developments in generative AI.\",\n",
    "      createdDate: date(\"2023-10-01\"),\n",
    "      category: \"Research\",\n",
    "    }),\n",
    "    (g2:Group {\n",
    "      groupId: \"GRP002\",\n",
    "      name: \"DSI Career Network\",\n",
    "      description: \"Career opportunities and professional networking\",\n",
    "      createdDate: date(\"2019-09-15\"),\n",
    "      category: \"Career\",\n",
    "    }), \n",
    "    (g3:Group {\n",
    "      groupId: \"GRP003\",\n",
    "      name: \"Gaming Club\",\n",
    "      description: \"A club for gamers to connect and play together.\",\n",
    "      createdDate: date(\"2023-09-01\"),\n",
    "      category: \"Social\",\n",
    "    })\n",
    "'''\n",
    "\n",
    "session.run(query)"
   ]
  },
  {
   "cell_type": "markdown",
   "metadata": {},
   "source": [
    "### Create Events"
   ]
  },
  {
   "cell_type": "code",
   "execution_count": 156,
   "metadata": {},
   "outputs": [
    {
     "data": {
      "text/plain": [
       "<neo4j._sync.work.result.Result at 0x1483bd510>"
      ]
     },
     "execution_count": 156,
     "metadata": {},
     "output_type": "execute_result"
    }
   ],
   "source": [
    "query='''\n",
    "  CREATE (e1:Event {\n",
    "      eventId: \"EVT001\",\n",
    "      title: \"DSI Fall Career Fair 2024\",\n",
    "      description: \"Annual career fair featuring top tech companies\",\n",
    "      eventDate: datetime(\"2024-10-15T10:00:00\"),\n",
    "      location: \"DSI Building\",\n",
    "      eventType: \"Career\",\n",
    "      maxAttendees: 200\n",
    "    })\n",
    "    CREATE (e2:Event {\n",
    "      eventId: \"EVT002\",\n",
    "      title: \"AWS Workshop Series\",\n",
    "      description: \"Hands-on workshop on AWS cloud computing\",\n",
    "      eventDate: datetime(\"2024-02-28T14:00:00\"),\n",
    "      location: \"Online\",\n",
    "      eventType: \"Workshop\",\n",
    "      maxAttendees: 50\n",
    "    }) \n",
    "    CREATE (e3:Event {\n",
    "      eventId: \"EVT003\",\n",
    "      title: \"Thanksgiving Potluck\",\n",
    "      description: \"Join us for a Thanksgiving potluck celebration!\",\n",
    "      eventDate: datetime(\"2024-11-20T16:00:00\"),\n",
    "      location: \"DSI Building\",\n",
    "      eventType: \"Seminar\",\n",
    "      maxAttendees: 100\n",
    "    })\n",
    "    CREATE (e4:Event {\n",
    "      eventId: \"EVT004\",\n",
    "      title: \"Data Science Fall Research Symposium\",\n",
    "      description: \"Annual symposium featuring research presentations\",\n",
    "      eventDate: datetime(\"2024-12-15T09:00:00\"),\n",
    "      location: \"DSI Building\",\n",
    "      eventType: \"Research\",\n",
    "      maxAttendees: 250\n",
    "    })\n",
    "    CREATE (e5:Event {\n",
    "      eventId: \"EVT005\",\n",
    "      title: \"DSI Alumni Reunion 2024\",\n",
    "      description: \"Reconnect with fellow alumni and faculty\",\n",
    "      eventDate: datetime(\"2024-11-30T18:00:00\"),\n",
    "      location: \"DSI Building\",\n",
    "      eventType: \"Alumni\",\n",
    "      maxAttendees: 150\n",
    "    })\n",
    "    CREATE (e6:Event {\n",
    "      eventId: \"EVT006\",\n",
    "      title: \"Data Science Careers in Public Service\",\n",
    "      description: \"Panel discussion on career paths in data science for public service\",\n",
    "      eventDate: datetime(\"2023-05-30T12:00:00\"),\n",
    "      location: \"DSI Building\",\n",
    "      eventType: \"Career\",\n",
    "      maxAttendees: 100\n",
    "    })\n",
    "'''\n",
    "\n",
    "session.run(query)"
   ]
  },
  {
   "cell_type": "markdown",
   "metadata": {},
   "source": [
    "### Create Interests"
   ]
  },
  {
   "cell_type": "code",
   "execution_count": 157,
   "metadata": {},
   "outputs": [
    {
     "data": {
      "text/plain": [
       "<neo4j._sync.work.result.Result at 0x1483c1d50>"
      ]
     },
     "execution_count": 157,
     "metadata": {},
     "output_type": "execute_result"
    }
   ],
   "source": [
    "query='''\n",
    "CREATE\n",
    "  (i1:Interest {\n",
    "    interestId: \"INT001\",\n",
    "    name: \"Machine Learning\",\n",
    "    category: \"Technical\",\n",
    "    description: \"ML algorithms, applications, and research\"\n",
    "  }),\n",
    "  (i2:Interest {\n",
    "    interestId: \"INT002\",\n",
    "    name: \"Data Engineering\",\n",
    "    category: \"Technical\",\n",
    "    description: \"Data pipeline development and optimization\"\n",
    "  }),\n",
    "  (i3:Interest {\n",
    "    interestId: \"INT003\",\n",
    "    name: \"Career Development\",\n",
    "    category: \"Professional\",\n",
    "    description: \"Professional growth and networking\"\n",
    "  }), \n",
    "  (i4:Interest {\n",
    "    interestId: \"INT004\",\n",
    "    name: \"Generative AI\",\n",
    "    category: \"Research\",\n",
    "    description: \"AI models that generate new content\"\n",
    "  }),\n",
    "  (i5:Interest {\n",
    "    interestId: \"INT005\",\n",
    "    name: \"Public Speaking\",\n",
    "    category: \"Professional\",\n",
    "    description: \"Effective communication and presentation skills\"\n",
    "  })\n",
    "'''\n",
    "\n",
    "session.run(query)"
   ]
  },
  {
   "cell_type": "markdown",
   "metadata": {},
   "source": [
    "### Create Direct Messages "
   ]
  },
  {
   "cell_type": "code",
   "execution_count": 158,
   "metadata": {},
   "outputs": [
    {
     "data": {
      "text/plain": [
       "<neo4j._sync.work.result.Result at 0x148808110>"
      ]
     },
     "execution_count": 158,
     "metadata": {},
     "output_type": "execute_result"
    }
   ],
   "source": [
    "query='''\n",
    "CREATE\n",
    "  (dm1:DirectMessage {\n",
    "    messageId: \"DM001\",\n",
    "    content: \"Hi David, would you be willing to refer me for the Google position?\",\n",
    "    timestamp: datetime(\"2024-02-11T14:30:00\"),\n",
    "    isRead: true,\n",
    "    mediaUrl: null,\n",
    "    isDeleted: false,\n",
    "    isEdited: false\n",
    "  })\n",
    "\n",
    "  CREATE (dm2:DirectMessage {\n",
    "    messageId: \"DM002\",\n",
    "    content: \"Hi Linda, thanks for reaching out! Can you send me your resume and portfolio? I'll take a look and refer you if it's a good fit.\",\n",
    "    timestamp: datetime(\"2024-02-12T15:00:00\"),\n",
    "    isRead: true,\n",
    "    mediaUrl: null,\n",
    "    isDeleted: false,\n",
    "    isEdited: false\n",
    "  })\n",
    "\n",
    "  CREATE (dm3:DirectMessage {\n",
    "    messageId: \"DM003\",\n",
    "    content: \"Hi Robin, I saw you are working as a data analyst at HCA. I'm interested in learning more about your experience there.\",\n",
    "    timestamp: datetime(\"2024-08-13T10:00:00\"),\n",
    "    isRead: true,\n",
    "    mediaUrl: null,\n",
    "    isDeleted: false,\n",
    "    isEdited: false\n",
    "  })\n",
    "'''\n",
    "\n",
    "session.run(query)\n"
   ]
  },
  {
   "cell_type": "markdown",
   "metadata": {},
   "source": [
    "## Insert Data : Edges"
   ]
  },
  {
   "cell_type": "markdown",
   "metadata": {},
   "source": [
    "In the following code chunks, there are several uses of WITH statements. These are used to chain multiple queries together. Specifically, the WITH statement allows us to pass the results of one query to the next query. This is useful when we need to create multiple relationship with a single node in the same query. I wanted to keep creation of each type of node and relationship separate for clarity, which required me to use the WITH statement quite a bit, sometimes passing in a dummy variable."
   ]
  },
  {
   "cell_type": "markdown",
   "metadata": {},
   "source": [
    "### Create User ->FOLLOWS -> User Relationships"
   ]
  },
  {
   "cell_type": "code",
   "execution_count": 182,
   "metadata": {},
   "outputs": [
    {
     "data": {
      "text/plain": [
       "<neo4j._sync.work.result.Result at 0x1488ca8d0>"
      ]
     },
     "execution_count": 182,
     "metadata": {},
     "output_type": "execute_result"
    }
   ],
   "source": [
    "query='''\n",
    "// Linda follows George, George follows Linda\n",
    "MATCH (linda:User {userId: \"DSI001\"}), (george:User {userId: \"DSI002\"})\n",
    "CREATE (linda)-[:FOLLOWS {since: datetime(\"2024-09-15\")}]->(george)\n",
    "WITH linda, george\n",
    "CREATE (george)-[:FOLLOWS {since: datetime(\"2024-09-16\")}]->(linda)\n",
    "\n",
    "// David follows Robin, Robin follows Linda, Linda follows David\n",
    "WITH linda\n",
    "MATCH (david:User {userId: \"DSI004\"}), (robin:User {userId: \"DSI003\"})\n",
    "CREATE (david)-[:FOLLOWS {since: datetime(\"2021-10-01\")}]->(robin)\n",
    "WITH linda, david, robin\n",
    "CREATE (robin)-[:FOLLOWS {since: datetime(\"2023-12-02\")}]->(linda)\n",
    "WITH linda, david\n",
    "CREATE (linda)-[:FOLLOWS {since: datetime(\"2024-11-01\")}]->(david)\n",
    "\n",
    "// Linda follows Lilian, Lilian follows Linda\n",
    "WITH linda, david  \n",
    "MATCH (lilian:User {userId: \"DSI006\"})\n",
    "CREATE (linda)-[:FOLLOWS {since: datetime(\"2024-09-15\")}]->(lilian)\n",
    "WITH linda, lilian, david  // Keep david in scope\n",
    "CREATE (lilian)-[:FOLLOWS {since: datetime(\"2024-09-16\")}]->(linda)\n",
    "\n",
    "// David follows Lilian, Lilian does not follow David\n",
    "WITH david, lilian  \n",
    "CREATE (david)-[:FOLLOWS {since: datetime(\"2021-10-01\")}]->(lilian)\n",
    "\n",
    "// George follows Lilian\n",
    "WITH lilian\n",
    "MATCH (george:User {userId: \"DSI002\"})\n",
    "CREATE (george)-[:FOLLOWS {since: datetime(\"2024-09-15\")}]->(lilian)\n",
    "\n",
    "// Lilian follows Amy, George follows Amy\n",
    "WITH lilian, george\n",
    "MATCH (amy:User {userId: \"DSI007\"})\n",
    "CREATE (lilian)-[:FOLLOWS {since: datetime(\"2024-09-15\")}]->(amy)\n",
    "CREATE (george)-[:FOLLOWS {since: datetime(\"2024-09-15\")}]->(amy)\n",
    "CREATE (amy)-[:FOLLOWS {since: datetime(\"2024-09-15\")}]->(lilian)\n",
    "'''\n",
    "session.run(query)\n"
   ]
  },
  {
   "cell_type": "markdown",
   "metadata": {},
   "source": [
    "### Create User -> CREATED -> User  Creation Relationships"
   ]
  },
  {
   "cell_type": "code",
   "execution_count": 159,
   "metadata": {},
   "outputs": [
    {
     "data": {
      "text/plain": [
       "<neo4j._sync.work.result.Result at 0x148808650>"
      ]
     },
     "execution_count": 159,
     "metadata": {},
     "output_type": "execute_result"
    }
   ],
   "source": [
    "query = '''\n",
    "// Linda's posts - study group and research paper\n",
    "MATCH (linda:User {userId: \"DSI001\"}), (p1:Post {postId: \"POST001\"})\n",
    "CREATE (linda)-[:CREATED {timestamp: datetime(\"2024-09-15\"), visibility: \"Public\"}]->(p1)\n",
    "WITH linda\n",
    "MATCH (p2:Post {postId: \"POST002\"})\n",
    "CREATE (linda)-[:CREATED {timestamp: datetime(\"2024-10-16\"), visibility: \"Public\"}]->(p2)\n",
    "\n",
    "// Robin's post about clean code\n",
    "// Using dummy variable to continue the query (no need to pass in anything from the previous part)\n",
    "WITH 1 as dummy \n",
    "MATCH (robin:User {userId: \"DSI003\"}), (p3:Post {postId: \"POST003\"})\n",
    "CREATE (robin)-[:CREATED {timestamp: datetime(\"2023-05-11\"), visibility: \"Public\"}]->(p3)\n",
    "\n",
    "// David's posts about Google hiring and Black Swan book\n",
    "WITH 1 as dummy\n",
    "MATCH (david:User {userId: \"DSI004\"}), (p4:Post {postId: \"POST004\"}), (p7:Post {postId: \"POST007\"})\n",
    "CREATE (david)-[:CREATED {timestamp: datetime(\"2024-02-10\"), visibility: \"Public\"}]->(p4)\n",
    "CREATE (david)-[:CREATED {timestamp: datetime(\"2024-10-15\"), visibility: \"Public\"}]->(p7)\n",
    "\n",
    "// Lilian's post about Ford\n",
    "WITH 1 as dummy\n",
    "MATCH (lilian:User {userId: \"DSI006\"}), (p5:Post {postId: \"POST005\"})\n",
    "CREATE (lilian)-[:CREATED {timestamp: datetime(\"2023-12-01\"), visibility: \"Public\"}]->(p5)\n",
    "\n",
    "// George's post looking for mentorship\n",
    "WITH 1 as dummy\n",
    "MATCH (george:User {userId: \"DSI002\"}), (p6:Post {postId: \"POST006\"})\n",
    "CREATE (george)-[:CREATED {timestamp: datetime(\"2024-06-12\"), visibility: \"Public\"}]->(p6)\n",
    "'''\n",
    "session.run(query)"
   ]
  },
  {
   "cell_type": "markdown",
   "metadata": {},
   "source": [
    "### Create User -> SENT/RECEIVED -> Direct Message Relationships"
   ]
  },
  {
   "cell_type": "code",
   "execution_count": 160,
   "metadata": {},
   "outputs": [
    {
     "data": {
      "text/plain": [
       "<neo4j._sync.work.result.Result at 0x14880a390>"
      ]
     },
     "execution_count": 160,
     "metadata": {},
     "output_type": "execute_result"
    }
   ],
   "source": [
    "query = ''' \n",
    "// Match all users first\n",
    "MATCH (linda:User {userId: \"DSI001\"}),\n",
    "      (george:User {userId: \"DSI002\"}),\n",
    "      (robin:User {userId: \"DSI003\"})\n",
    "\n",
    "// Linda sends message to George\n",
    "MATCH (dm1:DirectMessage {messageId: \"DM001\"})\n",
    "CREATE (linda)-[:SENT {\n",
    "    timestamp: datetime(\"2024-02-11T14:30:00\"), \n",
    "    status: \"delivered\"\n",
    "}]->(dm1)\n",
    "WITH linda, george, robin, dm1\n",
    "CREATE (george)-[:RECEIVED {\n",
    "    readTimestamp: datetime(\"2024-02-11T14:30:05\"), \n",
    "    notificationStatus: \"read\"\n",
    "}]->(dm1)\n",
    "\n",
    "// George sends message to Linda\n",
    "WITH linda, george, robin\n",
    "MATCH (dm2:DirectMessage {messageId: \"DM002\"})\n",
    "CREATE (george)-[:SENT {\n",
    "    timestamp: datetime(\"2024-02-12T15:00:00\"), \n",
    "    status: \"delivered\"\n",
    "}]->(dm2)\n",
    "WITH linda, george, robin, dm2\n",
    "CREATE (linda)-[:RECEIVED {\n",
    "    readTimestamp: datetime(\"2024-02-12T15:00:06\"), \n",
    "    notificationStatus: \"read\"\n",
    "}]->(dm2)\n",
    "\n",
    "// inda sends message to Robin\n",
    "WITH linda, robin\n",
    "MATCH (dm3:DirectMessage {messageId: \"DM003\"})\n",
    "CREATE (linda)-[:SENT {\n",
    "    timestamp: datetime(\"2024-08-13T10:00:00\"), \n",
    "    status: \"delivered\"\n",
    "}]->(dm3)\n",
    "WITH robin, linda, dm3\n",
    "CREATE (robin)-[:RECEIVED {\n",
    "    readTimestamp: datetime(\"2024-08-13T10:00:05\"), \n",
    "    notificationStatus: \"read\"\n",
    "}]->(dm3)\n",
    "'''\n",
    "\n",
    "session.run(query)"
   ]
  },
  {
   "cell_type": "markdown",
   "metadata": {},
   "source": [
    "### Create User -> LIKED -> Post  Relationships"
   ]
  },
  {
   "cell_type": "code",
   "execution_count": 161,
   "metadata": {},
   "outputs": [
    {
     "data": {
      "text/plain": [
       "<neo4j._sync.work.result.Result at 0x14881d9d0>"
      ]
     },
     "execution_count": 161,
     "metadata": {},
     "output_type": "execute_result"
    }
   ],
   "source": [
    "query='''\n",
    "// George likes Linda's first post (p1)\n",
    "MATCH (george:User {userId: \"DSI002\"}), (p1:Post {postId: \"POST001\"})\n",
    "CREATE (george)-[:LIKED {timestamp: datetime(\"2024-10-03\"), reactionType: \"Like\"}]->(p1)\n",
    "\n",
    "// Robin and Lilian like Linda's second post (p2)\n",
    "WITH 1 as dummy\n",
    "MATCH (robin:User {userId: \"DSI003\"}), (p2:Post {postId: \"POST002\"})\n",
    "CREATE (robin)-[:LIKED {timestamp: datetime(\"2024-03-16\"), reactionType: \"Like\"}]->(p2)\n",
    "WITH p2\n",
    "MATCH (lilian:User {userId: \"DSI006\"})\n",
    "CREATE (lilian)-[:LIKED {timestamp: datetime(\"2024-03-17\"), reactionType: \"Like\"}]->(p2)\n",
    "\n",
    "// David and Lilian like Robin's post (p3)\n",
    "WITH 1 as dummy\n",
    "MATCH (david:User {userId: \"DSI004\"}), (p3:Post {postId: \"POST004\"})\n",
    "CREATE (david)-[:LIKED {timestamp: datetime(\"2023-05-12\"), reactionType: \"Like\"}]->(p3)\n",
    "WITH p3\n",
    "MATCH (lilian:User {userId: \"DSI006\"})\n",
    "CREATE (lilian)-[:LIKED {timestamp: datetime(\"2023-05-13\"), reactionType: \"Like\"}]->(p3)\n",
    "\n",
    "// George and Linda like David's post (p4)\n",
    "WITH 1 as dummy\n",
    "MATCH (george:User {userId: \"DSI002\"}), (p4:Post {postId: \"POST004\"})\n",
    "CREATE (george)-[:LIKED {timestamp: datetime(\"2024-02-11\"), reactionType: \"Like\"}]->(p4)\n",
    "WITH p4\n",
    "MATCH (linda:User {userId: \"DSI001\"})\n",
    "CREATE (linda)-[:LIKED {timestamp: datetime(\"2024-02-12\"), reactionType: \"Like\"}]->(p4)\n",
    "\n",
    "// David likes Lilian's post (p5)\n",
    "WITH 1 as dummy\n",
    "MATCH (david:User {userId: \"DSI004\"}), (p5:Post {postId: \"POST005\"})\n",
    "CREATE (david)-[:LIKED {timestamp: datetime(\"2023-12-02\"), reactionType: \"Like\"}]->(p5)\n",
    "'''\n",
    "\n",
    "session.run(query)"
   ]
  },
  {
   "cell_type": "markdown",
   "metadata": {},
   "source": [
    "### Create User -> COMMENTED-> Post  Relationships"
   ]
  },
  {
   "cell_type": "code",
   "execution_count": 162,
   "metadata": {},
   "outputs": [
    {
     "data": {
      "text/plain": [
       "<neo4j._sync.work.result.Result at 0x14881ff90>"
      ]
     },
     "execution_count": 162,
     "metadata": {},
     "output_type": "execute_result"
    }
   ],
   "source": [
    "query='''\n",
    "// Create COMMENTED relationship\n",
    "MATCH (george:User {userId: \"DSI002\"}), (p1:Post {postId: \"POST001\"})\n",
    "CREATE (george)-[:COMMENTED {timestamp: datetime(\"2024-10-03\"), \n",
    "    content: \"I'm interested in joining the study group! Let's connect.\"}]->(p1)\n",
    "\n",
    "    \n",
    "// Lilian commented on Robin's post \n",
    "WITH 1 as dummy\n",
    "MATCH (lilian:User {userId: \"DSI006\"}), (p3:Post {postId: \"POST003\"})\n",
    "CREATE (lilian)-[:COMMENTED {timestamp: datetime(\"2023-05-12\"), \n",
    "    content: \"Notebooks are a great place to experiment, but totally agree production code should be modular and reproducible.\"}]->(p3)\n",
    "'''\n",
    "session.run(query)\n"
   ]
  },
  {
   "cell_type": "markdown",
   "metadata": {},
   "source": [
    "### Create User -> REPOSTED -> Post  Relationships"
   ]
  },
  {
   "cell_type": "code",
   "execution_count": 163,
   "metadata": {},
   "outputs": [
    {
     "data": {
      "text/plain": [
       "<neo4j._sync.work.result.Result at 0x1483d6c50>"
      ]
     },
     "execution_count": 163,
     "metadata": {},
     "output_type": "execute_result"
    }
   ],
   "source": [
    "query='''\n",
    "MATCH (david:User {userId: \"DSI004\"}), (p3:Post {postId: \"POST003\"})\n",
    "CREATE (george)-[:REPOSTED {timestamp: datetime(\"2023-06-15\"), shareType: \"Repost\"}]->(p3)\n",
    "'''\n",
    "session.run(query)"
   ]
  },
  {
   "cell_type": "markdown",
   "metadata": {},
   "source": [
    "### Create User -> MEMBER OF -> Group  Relationships"
   ]
  },
  {
   "cell_type": "code",
   "execution_count": 164,
   "metadata": {},
   "outputs": [
    {
     "data": {
      "text/plain": [
       "<neo4j._sync.work.result.Result at 0x1488218d0>"
      ]
     },
     "execution_count": 164,
     "metadata": {},
     "output_type": "execute_result"
    }
   ],
   "source": [
    "query  =''' \n",
    "// Linda and George are members of GenAI group \n",
    "MATCH (linda:User {userId: \"DSI001\"}), \n",
    "      (g1:Group {groupId: \"GRP001\"}),  \n",
    "      (george:User {userId: \"DSI002\"})\n",
    "CREATE (linda)-[:MEMBER_OF {\n",
    "    joinDate: datetime(\"2024-10-01\"), \n",
    "    role: \"Member\", \n",
    "    status: \"Active\"\n",
    "}]->(g1)\n",
    "CREATE (george)-[:MEMBER_OF {\n",
    "    joinDate: datetime(\"2024-10-01\"), \n",
    "    role: \"Member\", \n",
    "    status: \"Active\"\n",
    "}]->(g1)\n",
    "\n",
    "// George, Linda are members of Career Network group, Robin is Admin\n",
    "WITH linda, george\n",
    "MATCH (g2:Group {groupId: \"GRP002\"}),\n",
    "      (robin:User {userId: \"DSI003\"})\n",
    "CREATE (george)-[:MEMBER_OF {\n",
    "    joinDate: datetime(\"2024-09-29\"), \n",
    "    role: \"Member\", \n",
    "    status: \"Active\"\n",
    "}]->(g2)\n",
    "CREATE (linda)-[:MEMBER_OF {\n",
    "    joinDate: datetime(\"2024-09-30\"), \n",
    "    role: \"Member\", \n",
    "    status: \"Active\"\n",
    "}]->(g2)\n",
    "CREATE (robin)-[:MEMBER_OF {\n",
    "    joinDate: datetime(\"2024-09-15\"), \n",
    "    role: \"Admin\", \n",
    "    status: \"Active\"\n",
    "}]->(g2)\n",
    "\n",
    "// Lilian is an inactive member of the Gaming Club (g3)\n",
    "WITH 1 as dummy\n",
    "MATCH (lilian:User {userId: \"DSI006\"}),\n",
    "      (g3:Group {groupId: \"GRP003\"})\n",
    "CREATE (lilian)-[:MEMBER_OF {\n",
    "    joinDate: datetime(\"2023-12-15\"), \n",
    "    role: \"Member\", \n",
    "    status: \"Inactive\"\n",
    "}]->(g3)\n",
    "'''\n",
    "session.run(query)"
   ]
  },
  {
   "cell_type": "markdown",
   "metadata": {},
   "source": [
    "### Create User -> ATTENDING -> Event Relationships"
   ]
  },
  {
   "cell_type": "code",
   "execution_count": 165,
   "metadata": {},
   "outputs": [
    {
     "data": {
      "text/plain": [
       "<neo4j._sync.work.result.Result at 0x148823350>"
      ]
     },
     "execution_count": 165,
     "metadata": {},
     "output_type": "execute_result"
    }
   ],
   "source": [
    "query='''\n",
    "MATCH (linda:User {userId: \"DSI001\"}),\n",
    "      (george:User {userId: \"DSI002\"}),\n",
    "      (robin:User {userId: \"DSI003\"}),\n",
    "      (david:User {userId: \"DSI004\"}),\n",
    "      (lilian:User {userId: \"DSI006\"})\n",
    "\n",
    "// Linda and George are attending the Career Fair event\n",
    "WITH linda, george, robin, david, lilian\n",
    "MATCH (e1:Event {eventId: \"EVT001\"})\n",
    "CREATE (linda)-[:ATTENDING {\n",
    "    registrationDate: datetime(\"2024-02-01\"), \n",
    "    status: \"Confirmed\"\n",
    "}]->(e1)\n",
    "CREATE (george)-[:ATTENDING {\n",
    "    registrationDate: datetime(\"2024-02-02\"), \n",
    "    status: \"Confirmed\"\n",
    "}]->(e1)\n",
    "\n",
    "// Linda is attending the AWS Workshop\n",
    "WITH linda, george, robin, david, lilian\n",
    "MATCH (e2:Event {eventId: \"EVT002\"})\n",
    "CREATE (linda)-[:ATTENDING {\n",
    "    registrationDate: datetime(\"2024-03-15\"), \n",
    "    status: \"Confirmed\"\n",
    "}]->(e2)\n",
    "\n",
    "// George is attending the Thanksgiving Potluck\n",
    "WITH linda, george, robin, david, lilian\n",
    "MATCH (e3:Event {eventId: \"EVT003\"})\n",
    "CREATE (george)-[:ATTENDING {\n",
    "    registrationDate: datetime(\"2024-09-01\"), \n",
    "    status: \"Confirmed\"\n",
    "}]->(e3)\n",
    "\n",
    "// Linda and David are attending the Data Science Fall Research Symposium\n",
    "WITH linda, george, robin, david, lilian\n",
    "MATCH (e4:Event {eventId: \"EVT004\"})\n",
    "CREATE (linda)-[:ATTENDING {\n",
    "    registrationDate: datetime(\"2024-08-15\"), \n",
    "    status: \"Confirmed\"\n",
    "}]->(e4)\n",
    "CREATE (david)-[:ATTENDING {\n",
    "    registrationDate: datetime(\"2024-08-16\"), \n",
    "    status: \"Confirmed\"\n",
    "}]->(e4)\n",
    "\n",
    "// Lilian, David, and Robin are attending the Alumni Reunion\n",
    "WITH linda, george, robin, david, lilian\n",
    "MATCH (e5:Event {eventId: \"EVT005\"})\n",
    "CREATE (lilian)-[:ATTENDING {\n",
    "    registrationDate: datetime(\"2024-05-01\"), \n",
    "    status: \"Confirmed\"\n",
    "}]->(e5)\n",
    "CREATE (david)-[:ATTENDING {\n",
    "    registrationDate: datetime(\"2024-05-02\"), \n",
    "    status: \"Confirmed\"\n",
    "}]->(e5)\n",
    "CREATE (robin)-[:ATTENDING {\n",
    "    registrationDate: datetime(\"2024-05-03\"), \n",
    "    status: \"Confirmed\"\n",
    "}]->(e5)\n",
    "'''\n",
    "\n",
    "session.run(query)"
   ]
  },
  {
   "cell_type": "markdown",
   "metadata": {},
   "source": [
    "### Create Group -> CONTAINS -> Post Relationships"
   ]
  },
  {
   "cell_type": "code",
   "execution_count": 166,
   "metadata": {},
   "outputs": [
    {
     "data": {
      "text/plain": [
       "<neo4j._sync.work.result.Result at 0x1488397d0>"
      ]
     },
     "execution_count": 166,
     "metadata": {},
     "output_type": "execute_result"
    }
   ],
   "source": [
    "query='''\n",
    "// Career Network group contains Google hiring post\n",
    "MATCH (g2:Group {groupId: \"GRP002\"}), (p4:Post {postId: \"POST004\"})\n",
    "CREATE (g2)-[:CONTAINS {timestamp: datetime(\"2024-02-10\"), pinnedStatus: true}]->(p3)\n",
    "'''\n",
    "\n",
    "session.run(query)"
   ]
  },
  {
   "cell_type": "markdown",
   "metadata": {},
   "source": [
    "### Create User -> HAS INTEREST -> Interest Relationships"
   ]
  },
  {
   "cell_type": "code",
   "execution_count": 167,
   "metadata": {},
   "outputs": [
    {
     "data": {
      "text/plain": [
       "<neo4j._sync.work.result.Result at 0x14883bc90>"
      ]
     },
     "execution_count": 167,
     "metadata": {},
     "output_type": "execute_result"
    }
   ],
   "source": [
    "query='''\n",
    "MATCH (linda:User {userId: \"DSI001\"}),\n",
    "      (george:User {userId: \"DSI002\"}),\n",
    "      (david:User {userId: \"DSI004\"})\n",
    "\n",
    "// Linda's interests\n",
    "MATCH (ml:Interest {interestId: \"INT001\"}),  // Machine Learning\n",
    "      (career:Interest {interestId: \"INT002\"}),  // Career Development\n",
    "      (ps:Interest {interestId: \"INT004\"}), // Public Speaking\n",
    "      (gai:Interest {interestId: \"INT005\"}) // Generative AI\n",
    "CREATE (linda)-[:HAS_INTEREST {addedDate: datetime(\"2023-09-01\")}]->(ml)\n",
    "CREATE (linda)-[:HAS_INTEREST {addedDate: datetime(\"2023-09-01\")}]->(career)\n",
    "CREATE (linda)-[:HAS_INTEREST {addedDate: datetime(\"2023-09-01\")}]->(ps)\n",
    "CREATE (linda)-[:HAS_INTEREST {addedDate: datetime(\"2023-09-01\")}]->(gai)\n",
    "\n",
    "// George's interests\n",
    "WITH linda, george, david, ps, gai, ml\n",
    "MATCH (de:Interest {interestId: \"INT003\"})  // Data Engineering\n",
    "CREATE (george)-[:HAS_INTEREST {addedDate: datetime(\"2024-09-15\")}]->(de)\n",
    "CREATE (george)-[:HAS_INTEREST {addedDate: datetime(\"2024-09-15\")}]->(ps)\n",
    "CREATE (george)-[:HAS_INTEREST {addedDate: datetime(\"2024-09-15\")}]->(gai)\n",
    "\n",
    "// David's interests\n",
    "WITH linda, george, david, gai, ml\n",
    "CREATE (david)-[:HAS_INTEREST {addedDate: datetime(\"2019-10-15\")}]->(gai)\n",
    "CREATE (david)-[:HAS_INTEREST {addedDate: datetime(\"2019-10-15\")}]->(ml)\n",
    "'''\n",
    "\n",
    "session.run(query)"
   ]
  },
  {
   "cell_type": "markdown",
   "metadata": {},
   "source": [
    "## Queries"
   ]
  },
  {
   "cell_type": "markdown",
   "metadata": {},
   "source": [
    "**Retrieve a property of a specific User**"
   ]
  },
  {
   "cell_type": "code",
   "execution_count": 168,
   "metadata": {},
   "outputs": [
    {
     "name": "stdout",
     "output_type": "stream",
     "text": [
      "['Research Assistant']\n"
     ]
    }
   ],
   "source": [
    "query='''\n",
    "MATCH (u:User {name: \"Linda Chen\"})\n",
    "RETURN u.currentTitle\n",
    "'''\n",
    "run_query_print_raw(session, query)"
   ]
  },
  {
   "cell_type": "markdown",
   "metadata": {},
   "source": [
    "Linda's current title is \"Research Assistant\". "
   ]
  },
  {
   "cell_type": "markdown",
   "metadata": {},
   "source": [
    "**Find all Posts created by a specific User**"
   ]
  },
  {
   "cell_type": "code",
   "execution_count": 169,
   "metadata": {},
   "outputs": [
    {
     "name": "stdout",
     "output_type": "stream",
     "text": [
      "Posts created by Linda Chen:\n",
      "\n",
      "==================================================\n",
      "Post ID: POST002\n",
      "Topic: Research\n",
      "Content: Just published my first paper on NLP for ACL 2024! Thank you to my all collaborators in the Kang Lab.\n",
      "Posted on: 2024-10-16 09:15:00\n",
      "Tags: research, NLP, publication\n",
      "Media: paper_preview.pdf\n",
      "==================================================\n",
      "\n",
      "==================================================\n",
      "Post ID: POST001\n",
      "Topic: Academic\n",
      "Content: Looking for study group partners for the NoSQL course this semester!\n",
      "Posted on: 2024-09-15 14:30:00\n",
      "Tags: study group, databases, collaboration\n",
      "==================================================\n"
     ]
    }
   ],
   "source": [
    "print(\"Posts created by Linda Chen:\")\n",
    "\n",
    "query='''\n",
    "MATCH (u:User {name: \"Linda Chen\"})-[r:CREATED]->(p:Post)\n",
    "RETURN p\n",
    "'''\n",
    "display_posts(session, query, display_format='text')"
   ]
  },
  {
   "cell_type": "markdown",
   "metadata": {},
   "source": [
    "**Find all Users who posted a specific topic of Post (topic is a property of Post)**"
   ]
  },
  {
   "cell_type": "code",
   "execution_count": 170,
   "metadata": {},
   "outputs": [
    {
     "data": {
      "text/html": [
       "<div>\n",
       "<style scoped>\n",
       "    .dataframe tbody tr th:only-of-type {\n",
       "        vertical-align: middle;\n",
       "    }\n",
       "\n",
       "    .dataframe tbody tr th {\n",
       "        vertical-align: top;\n",
       "    }\n",
       "\n",
       "    .dataframe thead th {\n",
       "        text-align: right;\n",
       "    }\n",
       "</style>\n",
       "<table border=\"1\" class=\"dataframe\">\n",
       "  <thead>\n",
       "    <tr style=\"text-align: right;\">\n",
       "      <th></th>\n",
       "      <th>u.name</th>\n",
       "    </tr>\n",
       "  </thead>\n",
       "  <tbody>\n",
       "    <tr>\n",
       "      <th>0</th>\n",
       "      <td>David Kim</td>\n",
       "    </tr>\n",
       "    <tr>\n",
       "      <th>1</th>\n",
       "      <td>Lilian Nassimi</td>\n",
       "    </tr>\n",
       "    <tr>\n",
       "      <th>2</th>\n",
       "      <td>George Lopez</td>\n",
       "    </tr>\n",
       "  </tbody>\n",
       "</table>\n",
       "</div>"
      ],
      "text/plain": [
       "           u.name\n",
       "0       David Kim\n",
       "1  Lilian Nassimi\n",
       "2    George Lopez"
      ]
     },
     "metadata": {},
     "output_type": "display_data"
    }
   ],
   "source": [
    "query='''\n",
    "MATCH (u:User)-[:CREATED]->(p:Post {topic: \"Career\"})\n",
    "RETURN u.name\n",
    "'''\n",
    "df = run_query_to_pandas(session, query)\n",
    "display(df)"
   ]
  },
  {
   "cell_type": "markdown",
   "metadata": {},
   "source": [
    "David, Lilian, and George have all made posts related to career topics."
   ]
  },
  {
   "cell_type": "markdown",
   "metadata": {},
   "source": [
    "**Find common interests between two specific Users.**"
   ]
  },
  {
   "cell_type": "code",
   "execution_count": 171,
   "metadata": {},
   "outputs": [
    {
     "data": {
      "text/html": [
       "<div>\n",
       "<style scoped>\n",
       "    .dataframe tbody tr th:only-of-type {\n",
       "        vertical-align: middle;\n",
       "    }\n",
       "\n",
       "    .dataframe tbody tr th {\n",
       "        vertical-align: top;\n",
       "    }\n",
       "\n",
       "    .dataframe thead th {\n",
       "        text-align: right;\n",
       "    }\n",
       "</style>\n",
       "<table border=\"1\" class=\"dataframe\">\n",
       "  <thead>\n",
       "    <tr style=\"text-align: right;\">\n",
       "      <th></th>\n",
       "      <th>i.name</th>\n",
       "    </tr>\n",
       "  </thead>\n",
       "  <tbody>\n",
       "    <tr>\n",
       "      <th>0</th>\n",
       "      <td>Public Speaking</td>\n",
       "    </tr>\n",
       "    <tr>\n",
       "      <th>1</th>\n",
       "      <td>Machine Learning</td>\n",
       "    </tr>\n",
       "  </tbody>\n",
       "</table>\n",
       "</div>"
      ],
      "text/plain": [
       "             i.name\n",
       "0   Public Speaking\n",
       "1  Machine Learning"
      ]
     },
     "metadata": {},
     "output_type": "display_data"
    }
   ],
   "source": [
    "query='''\n",
    "MATCH (linda:User {name: \"Linda Chen\"})-[:HAS_INTEREST]->(i:Interest)<-[:HAS_INTEREST]-(george:User {name: \"David Kim\"})\n",
    "RETURN i.name\n",
    "'''\n",
    "\n",
    "df = run_query_to_pandas(session, query)\n",
    "display(df)"
   ]
  },
  {
   "cell_type": "markdown",
   "metadata": {},
   "source": [
    "Linda and David are both interested in \"Public Speaking\" and \"Machine Learning\". "
   ]
  },
  {
   "cell_type": "markdown",
   "metadata": {},
   "source": [
    "**Retrieve top 3 Users who created most Posts**"
   ]
  },
  {
   "cell_type": "code",
   "execution_count": 172,
   "metadata": {},
   "outputs": [
    {
     "data": {
      "text/html": [
       "<div>\n",
       "<style scoped>\n",
       "    .dataframe tbody tr th:only-of-type {\n",
       "        vertical-align: middle;\n",
       "    }\n",
       "\n",
       "    .dataframe tbody tr th {\n",
       "        vertical-align: top;\n",
       "    }\n",
       "\n",
       "    .dataframe thead th {\n",
       "        text-align: right;\n",
       "    }\n",
       "</style>\n",
       "<table border=\"1\" class=\"dataframe\">\n",
       "  <thead>\n",
       "    <tr style=\"text-align: right;\">\n",
       "      <th></th>\n",
       "      <th>u.name</th>\n",
       "      <th>postCount</th>\n",
       "    </tr>\n",
       "  </thead>\n",
       "  <tbody>\n",
       "    <tr>\n",
       "      <th>0</th>\n",
       "      <td>Linda Chen</td>\n",
       "      <td>2</td>\n",
       "    </tr>\n",
       "    <tr>\n",
       "      <th>1</th>\n",
       "      <td>David Kim</td>\n",
       "      <td>2</td>\n",
       "    </tr>\n",
       "    <tr>\n",
       "      <th>2</th>\n",
       "      <td>Robin Watson</td>\n",
       "      <td>1</td>\n",
       "    </tr>\n",
       "  </tbody>\n",
       "</table>\n",
       "</div>"
      ],
      "text/plain": [
       "         u.name  postCount\n",
       "0    Linda Chen          2\n",
       "1     David Kim          2\n",
       "2  Robin Watson          1"
      ]
     },
     "metadata": {},
     "output_type": "display_data"
    }
   ],
   "source": [
    "query='''\n",
    "MATCH (u:User)-[r:CREATED]->(p:Post)\n",
    "WITH u, COUNT(p) as postCount\n",
    "RETURN u.name, postCount\n",
    "ORDER BY postCount DESC\n",
    "LIMIT 3\n",
    "'''\n",
    "df = run_query_to_pandas(session, query)\n",
    "display(df)"
   ]
  },
  {
   "cell_type": "markdown",
   "metadata": {},
   "source": [
    "Linda, David, and Robert have created the most posts."
   ]
  },
  {
   "cell_type": "markdown",
   "metadata": {},
   "source": [
    "**Retrieve Users who haven’t created any Posts**"
   ]
  },
  {
   "cell_type": "code",
   "execution_count": 173,
   "metadata": {},
   "outputs": [
    {
     "data": {
      "text/html": [
       "<div>\n",
       "<style scoped>\n",
       "    .dataframe tbody tr th:only-of-type {\n",
       "        vertical-align: middle;\n",
       "    }\n",
       "\n",
       "    .dataframe tbody tr th {\n",
       "        vertical-align: top;\n",
       "    }\n",
       "\n",
       "    .dataframe thead th {\n",
       "        text-align: right;\n",
       "    }\n",
       "</style>\n",
       "<table border=\"1\" class=\"dataframe\">\n",
       "  <thead>\n",
       "    <tr style=\"text-align: right;\">\n",
       "      <th></th>\n",
       "      <th>u.name</th>\n",
       "    </tr>\n",
       "  </thead>\n",
       "  <tbody>\n",
       "    <tr>\n",
       "      <th>0</th>\n",
       "      <td>Tim Robinson</td>\n",
       "    </tr>\n",
       "    <tr>\n",
       "      <th>1</th>\n",
       "      <td>Amy Martinez</td>\n",
       "    </tr>\n",
       "  </tbody>\n",
       "</table>\n",
       "</div>"
      ],
      "text/plain": [
       "         u.name\n",
       "0  Tim Robinson\n",
       "1  Amy Martinez"
      ]
     },
     "metadata": {},
     "output_type": "display_data"
    }
   ],
   "source": [
    "query='''\n",
    "MATCH (u:User)\n",
    "WHERE NOT EXISTS((u)-[:CREATED]->(:Post))\n",
    "RETURN u.name\n",
    "'''\n",
    "df = run_query_to_pandas(session, query)\n",
    "display(df)"
   ]
  },
  {
   "cell_type": "markdown",
   "metadata": {},
   "source": [
    "Tim Robinson and Amy Martinez have not created any posts."
   ]
  },
  {
   "cell_type": "markdown",
   "metadata": {},
   "source": [
    "**Given two Users, identify if they are indirectly connected through a chain of friends and, if so, return the connecting path**"
   ]
  },
  {
   "cell_type": "code",
   "execution_count": 214,
   "metadata": {},
   "outputs": [],
   "source": [
    "query = f'''\n",
    "MATCH \n",
    "    (u1:User {{name: \"Amy Martinez\"}}),\n",
    "    (u2:User {{name: \"George Lopez\"}}), \n",
    "    path = shortestPath(  (u1)-[:FOLLOWS*]->(u2) )\n",
    "RETURN path\n",
    "'''\n",
    "\n",
    "result = session.run(query)"
   ]
  },
  {
   "cell_type": "code",
   "execution_count": 215,
   "metadata": {},
   "outputs": [
    {
     "name": "stdout",
     "output_type": "stream",
     "text": [
      "\n",
      "============================================================\n",
      "Social Connection Path Analysis\n",
      "============================================================\n",
      "\n",
      "Connection Path:\n",
      "  Amy Martinez (Data Scientist at Chewy) ──→ Lilian Nassimi (Operations Research Scientist at Ford Motor Company) ──→ Linda Chen (Research Assistant at Kang Lab, Vanderbilt University) ──→ George Lopez (Probability Teaching Assistant at Vanderbilt University)\n",
      "\n",
      "User Details:\n",
      "          Name      Location                   Current Role                         Company Last Active\n",
      "  Amy Martinez   Chicago, IL                 Data Scientist                           Chewy  2024-11-01\n",
      "Lilian Nassimi   Detroit, MI  Operations Research Scientist              Ford Motor Company  2024-10-15\n",
      "    Linda Chen Nashville, TN             Research Assistant Kang Lab, Vanderbilt University  2024-11-02\n",
      "  George Lopez Nashville, TN Probability Teaching Assistant           Vanderbilt University  2024-11-05\n",
      "\n",
      "Path Length: 3 connection(s)\n",
      "\n",
      "============================================================\n"
     ]
    }
   ],
   "source": [
    "display_social_path(result)"
   ]
  },
  {
   "cell_type": "markdown",
   "metadata": {},
   "source": [
    "**Identify orphaned Users (Users who have no connections)**"
   ]
  },
  {
   "cell_type": "code",
   "execution_count": 216,
   "metadata": {},
   "outputs": [
    {
     "name": "stdout",
     "output_type": "stream",
     "text": [
      "['Tim Robinson']\n"
     ]
    }
   ],
   "source": [
    "query='''\n",
    "MATCH (u:User)\n",
    "WHERE NOT (u)-[]-()\n",
    "RETURN u.name as orphanedUser\n",
    "'''\n",
    "run_query_print_raw(session, query)"
   ]
  },
  {
   "cell_type": "markdown",
   "metadata": {},
   "source": [
    "Tim Robinson is an orphaned user. Identifying orphaned users is important because they may have made an account but have not engaged with the platform. This could be used to identify users who may need help getting started, allowing platform administrators to intervene before the user becomes completely disengaged. High numbers of orphaned users may indicate problems with the platform's value proposition or user experience. Some strategies to engage orphaned users could include sending them a welcome email, suggesting groups or events they might be interested in, or providing a tutorial on how to use the platform."
   ]
  }
 ],
 "metadata": {
  "kernelspec": {
   "display_name": "base",
   "language": "python",
   "name": "python3"
  },
  "language_info": {
   "codemirror_mode": {
    "name": "ipython",
    "version": 3
   },
   "file_extension": ".py",
   "mimetype": "text/x-python",
   "name": "python",
   "nbconvert_exporter": "python",
   "pygments_lexer": "ipython3",
   "version": "3.11.5"
  }
 },
 "nbformat": 4,
 "nbformat_minor": 2
}
